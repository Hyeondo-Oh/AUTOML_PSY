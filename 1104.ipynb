{
  "nbformat": 4,
  "nbformat_minor": 0,
  "metadata": {
    "colab": {
      "name": "1104.ipynb",
      "provenance": [],
      "collapsed_sections": [],
      "authorship_tag": "ABX9TyPOUnroAfH8OkRgt4aGUInT",
      "include_colab_link": true
    },
    "kernelspec": {
      "name": "python3",
      "display_name": "Python 3"
    }
  },
  "cells": [
    {
      "cell_type": "markdown",
      "metadata": {
        "id": "view-in-github",
        "colab_type": "text"
      },
      "source": [
        "<a href=\"https://colab.research.google.com/github/Hyeondo-Oh/AUTOML_PSY/blob/main/1104.ipynb\" target=\"_parent\"><img src=\"https://colab.research.google.com/assets/colab-badge.svg\" alt=\"Open In Colab\"/></a>"
      ]
    },
    {
      "cell_type": "code",
      "metadata": {
        "id": "F8cQhGnilp-Z"
      },
      "source": [
        "# 범주형 feature => education, engnat, age_group, gender, race, religion, urban => encoding 필요?\n",
        "\n",
        "# 순서 존재 X 범주형 => gender, race, religion, engnat => 매핑 필요?\n",
        "# 순서 존재하는  범주형 => education, urban, age_group => age group만 매핑하면될듯?\n",
        "\n",
        "print(train.religion.value_counts())\n",
        "\n",
        "# 성별 => 가변수로 변환\n",
        "train1 = pd.get_dummies(data=train, columns=['gender'])\n",
        "\n",
        "# 연령대 매핑 \n",
        "age_mapping = {'10s':1, '20s':2, '30s':3, '40s':4, '50s':5, '60s':6, '+70s':7}\n",
        "train1['age_group'] = train1['age_group'].map(age_mapping)\n",
        "train1.head()\n",
        "\n",
        "\n",
        "# 인종 매핑 \n",
        "race_mapping = {'White':1, 'Asian':2, 'Other':3, 'Black':4, 'Native American':5, 'Arab':6, 'Indigenous Australian':7}\n",
        "train1['race'] = train1['race'].map(race_mapping)\n",
        "\n",
        "# 종교 매핑\n",
        "religion_mapping = {'Atheist':1, 'Agnostic':2, 'Christian_Catholic':3, 'Christian_Other':4, 'Christian_Protestant':5, 'Other':6, 'Hindu':7,\n",
        "                    'Muslim':8, 'Buddhist':9, 'Jewish':10, 'Christian_Mormon':11, 'Sikh':12}\n",
        "train1['religion'] = train1['religion'].map(religion_mapping)\n",
        "train1.head()\n",
        "\n",
        "\n",
        "# 얘도 부작용 우려 => 수치를 부여해서 얘네 사이에 순서가 생겨버리면 AutoK....\n",
        "\n",
        "\n",
        "# 투표율과 나머지 변수들 간 상관계수 살펴보기 (학배리는 상관관계=/=인과관계라 했지만 그래도 보겠다.....)\n",
        "\n",
        "pd.set_option('display.max_rows', 500)\n",
        "corr_ = abs(train1.corr().voted).sort_values(ascending = False)\n",
        "print(corr_)\n",
        "\n",
        "# index는 상관관계와 관련없이 무조건 제거해야함 + 상관계수 몹시 낮은 애들 쳐내는거 어떨지\n",
        "# feature scaling - minmax / standardscaler / ... (범주형 애들은 빼놓고 수치형 데이터 해당되는 애들만)\n"
      ],
      "execution_count": null,
      "outputs": []
    }
  ]
}