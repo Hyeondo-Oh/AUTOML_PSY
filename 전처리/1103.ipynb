{
  "nbformat": 4,
  "nbformat_minor": 0,
  "metadata": {
    "colab": {
      "name": "1103.ipynb",
      "provenance": [],
      "toc_visible": true
    },
    "kernelspec": {
      "name": "python3",
      "display_name": "Python 3"
    }
  },
  "cells": [
    {
      "cell_type": "code",
      "metadata": {
        "id": "2QG_uormOAAE"
      },
      "source": [
        "import pandas as pd\n",
        "path = '/content/drive/My Drive/pp/'"
      ],
      "execution_count": null,
      "outputs": []
    },
    {
      "cell_type": "code",
      "metadata": {
        "id": "DjR-kIaROXi9"
      },
      "source": [
        "train = pd.read_csv(path+'train.csv')\n",
        "test = pd.read_csv(path+'test_x.csv')\n",
        "submission = pd.read_csv(path+'sample_submission.csv')"
      ],
      "execution_count": null,
      "outputs": []
    },
    {
      "cell_type": "code",
      "metadata": {
        "id": "HwuI5ijAOggr",
        "outputId": "dd076e3c-4f78-40bd-b4c8-f178727e6689",
        "colab": {
          "base_uri": "https://localhost:8080/"
        }
      },
      "source": [
        "print(train.shape)\n",
        "print(test.shape)\n",
        "print(submission.shape)"
      ],
      "execution_count": null,
      "outputs": [
        {
          "output_type": "stream",
          "text": [
            "(45532, 78)\n",
            "(11383, 77)\n",
            "(11383, 2)\n"
          ],
          "name": "stdout"
        }
      ]
    },
    {
      "cell_type": "code",
      "metadata": {
        "id": "IxVgVIy-Om0p",
        "outputId": "090b247d-6e42-4470-b8d1-6b612b905193",
        "colab": {
          "base_uri": "https://localhost:8080/"
        }
      },
      "source": [
        "train.info()"
      ],
      "execution_count": null,
      "outputs": [
        {
          "output_type": "stream",
          "text": [
            "<class 'pandas.core.frame.DataFrame'>\n",
            "RangeIndex: 45532 entries, 0 to 45531\n",
            "Data columns (total 78 columns):\n",
            " #   Column      Non-Null Count  Dtype  \n",
            "---  ------      --------------  -----  \n",
            " 0   index       45532 non-null  int64  \n",
            " 1   QaA         45532 non-null  float64\n",
            " 2   QaE         45532 non-null  int64  \n",
            " 3   QbA         45532 non-null  float64\n",
            " 4   QbE         45532 non-null  int64  \n",
            " 5   QcA         45532 non-null  float64\n",
            " 6   QcE         45532 non-null  int64  \n",
            " 7   QdA         45532 non-null  float64\n",
            " 8   QdE         45532 non-null  int64  \n",
            " 9   QeA         45532 non-null  float64\n",
            " 10  QeE         45532 non-null  int64  \n",
            " 11  QfA         45532 non-null  float64\n",
            " 12  QfE         45532 non-null  int64  \n",
            " 13  QgA         45532 non-null  float64\n",
            " 14  QgE         45532 non-null  int64  \n",
            " 15  QhA         45532 non-null  float64\n",
            " 16  QhE         45532 non-null  int64  \n",
            " 17  QiA         45532 non-null  float64\n",
            " 18  QiE         45532 non-null  int64  \n",
            " 19  QjA         45532 non-null  float64\n",
            " 20  QjE         45532 non-null  int64  \n",
            " 21  QkA         45532 non-null  float64\n",
            " 22  QkE         45532 non-null  int64  \n",
            " 23  QlA         45532 non-null  float64\n",
            " 24  QlE         45532 non-null  int64  \n",
            " 25  QmA         45532 non-null  float64\n",
            " 26  QmE         45532 non-null  int64  \n",
            " 27  QnA         45532 non-null  float64\n",
            " 28  QnE         45532 non-null  int64  \n",
            " 29  QoA         45532 non-null  float64\n",
            " 30  QoE         45532 non-null  int64  \n",
            " 31  QpA         45532 non-null  float64\n",
            " 32  QpE         45532 non-null  int64  \n",
            " 33  QqA         45532 non-null  float64\n",
            " 34  QqE         45532 non-null  int64  \n",
            " 35  QrA         45532 non-null  float64\n",
            " 36  QrE         45532 non-null  int64  \n",
            " 37  QsA         45532 non-null  float64\n",
            " 38  QsE         45532 non-null  int64  \n",
            " 39  QtA         45532 non-null  float64\n",
            " 40  QtE         45532 non-null  int64  \n",
            " 41  age_group   45532 non-null  object \n",
            " 42  education   45532 non-null  int64  \n",
            " 43  engnat      45532 non-null  int64  \n",
            " 44  familysize  45532 non-null  int64  \n",
            " 45  gender      45532 non-null  object \n",
            " 46  hand        45532 non-null  int64  \n",
            " 47  married     45532 non-null  int64  \n",
            " 48  race        45532 non-null  object \n",
            " 49  religion    45532 non-null  object \n",
            " 50  tp01        45532 non-null  int64  \n",
            " 51  tp02        45532 non-null  int64  \n",
            " 52  tp03        45532 non-null  int64  \n",
            " 53  tp04        45532 non-null  int64  \n",
            " 54  tp05        45532 non-null  int64  \n",
            " 55  tp06        45532 non-null  int64  \n",
            " 56  tp07        45532 non-null  int64  \n",
            " 57  tp08        45532 non-null  int64  \n",
            " 58  tp09        45532 non-null  int64  \n",
            " 59  tp10        45532 non-null  int64  \n",
            " 60  urban       45532 non-null  int64  \n",
            " 61  voted       45532 non-null  int64  \n",
            " 62  wf_01       45532 non-null  int64  \n",
            " 63  wf_02       45532 non-null  int64  \n",
            " 64  wf_03       45532 non-null  int64  \n",
            " 65  wr_01       45532 non-null  int64  \n",
            " 66  wr_02       45532 non-null  int64  \n",
            " 67  wr_03       45532 non-null  int64  \n",
            " 68  wr_04       45532 non-null  int64  \n",
            " 69  wr_05       45532 non-null  int64  \n",
            " 70  wr_06       45532 non-null  int64  \n",
            " 71  wr_07       45532 non-null  int64  \n",
            " 72  wr_08       45532 non-null  int64  \n",
            " 73  wr_09       45532 non-null  int64  \n",
            " 74  wr_10       45532 non-null  int64  \n",
            " 75  wr_11       45532 non-null  int64  \n",
            " 76  wr_12       45532 non-null  int64  \n",
            " 77  wr_13       45532 non-null  int64  \n",
            "dtypes: float64(20), int64(54), object(4)\n",
            "memory usage: 27.1+ MB\n"
          ],
          "name": "stdout"
        }
      ]
    },
    {
      "cell_type": "code",
      "metadata": {
        "id": "0fjN1lsTQM2p",
        "outputId": "74a0bc09-3f3e-4651-b171-374fd9748a57",
        "colab": {
          "base_uri": "https://localhost:8080/"
        }
      },
      "source": [
        "train.isnull().sum()\n",
        "# 결측치 없음."
      ],
      "execution_count": null,
      "outputs": [
        {
          "output_type": "execute_result",
          "data": {
            "text/plain": [
              "index    0\n",
              "QaA      0\n",
              "QaE      0\n",
              "QbA      0\n",
              "QbE      0\n",
              "        ..\n",
              "wr_09    0\n",
              "wr_10    0\n",
              "wr_11    0\n",
              "wr_12    0\n",
              "wr_13    0\n",
              "Length: 78, dtype: int64"
            ]
          },
          "metadata": {
            "tags": []
          },
          "execution_count": 5
        }
      ]
    },
    {
      "cell_type": "code",
      "metadata": {
        "id": "GVOMVuPhQgv8",
        "outputId": "13f76364-f901-45e6-eff4-7f7a4abe9e75",
        "colab": {
          "base_uri": "https://localhost:8080/"
        }
      },
      "source": [
        "X = train.drop('voted', axis = 1)\n",
        "y = train['voted']\n",
        "print(X.shape)\n",
        "print(y.shape)"
      ],
      "execution_count": null,
      "outputs": [
        {
          "output_type": "stream",
          "text": [
            "(45532, 77)\n",
            "(45532,)\n"
          ],
          "name": "stdout"
        }
      ]
    },
    {
      "cell_type": "code",
      "metadata": {
        "id": "LZx56ECtQjVu",
        "outputId": "191c300f-87b9-4588-d1ef-395499c54ff9",
        "colab": {
          "base_uri": "https://localhost:8080/"
        }
      },
      "source": [
        "## DATA ENCODING\n",
        "print(X.race.value_counts()) \n",
        "print('\\n')\n",
        "print(X.age_group.value_counts())\n",
        "print('\\n')\n",
        "print(X.gender.value_counts())\n",
        "print('\\n')\n",
        "print(X.religion.value_counts())\n"
      ],
      "execution_count": null,
      "outputs": [
        {
          "output_type": "stream",
          "text": [
            "White                    31248\n",
            "Asian                     6834\n",
            "Other                     4330\n",
            "Black                     2168\n",
            "Native American            548\n",
            "Arab                       351\n",
            "Indigenous Australian       53\n",
            "Name: race, dtype: int64\n",
            "\n",
            "\n",
            "10s     14215\n",
            "20s     14112\n",
            "30s      7836\n",
            "40s      5051\n",
            "50s      2889\n",
            "60s      1194\n",
            "+70s      235\n",
            "Name: age_group, dtype: int64\n",
            "\n",
            "\n",
            "Male      24217\n",
            "Female    21315\n",
            "Name: gender, dtype: int64\n",
            "\n",
            "\n",
            "Atheist                 10192\n",
            "Agnostic                 9624\n",
            "Christian_Catholic       6431\n",
            "Christian_Other          5137\n",
            "Christian_Protestant     4875\n",
            "Other                    4770\n",
            "Hindu                    1429\n",
            "Muslim                   1192\n",
            "Buddhist                  850\n",
            "Jewish                    487\n",
            "Christian_Mormon          428\n",
            "Sikh                      117\n",
            "Name: religion, dtype: int64\n"
          ],
          "name": "stdout"
        }
      ]
    },
    {
      "cell_type": "code",
      "metadata": {
        "id": "Dt-C1r63SUqC",
        "outputId": "73065a12-94d2-49d0-b543-595a6ef701e2",
        "colab": {
          "base_uri": "https://localhost:8080/"
        }
      },
      "source": [
        "print(\"원본 데이터 칼럼 : \", list(X.columns), \"\\n\")\n",
        "X_dummies = pd.get_dummies(X)\n",
        "print(\"get_dummies된 데이터 칼럼 : \", list(X_dummies.columns))"
      ],
      "execution_count": null,
      "outputs": [
        {
          "output_type": "stream",
          "text": [
            "원본 데이터 칼럼 :  ['index', 'QaA', 'QaE', 'QbA', 'QbE', 'QcA', 'QcE', 'QdA', 'QdE', 'QeA', 'QeE', 'QfA', 'QfE', 'QgA', 'QgE', 'QhA', 'QhE', 'QiA', 'QiE', 'QjA', 'QjE', 'QkA', 'QkE', 'QlA', 'QlE', 'QmA', 'QmE', 'QnA', 'QnE', 'QoA', 'QoE', 'QpA', 'QpE', 'QqA', 'QqE', 'QrA', 'QrE', 'QsA', 'QsE', 'QtA', 'QtE', 'age_group', 'education', 'engnat', 'familysize', 'gender', 'hand', 'married', 'race', 'religion', 'tp01', 'tp02', 'tp03', 'tp04', 'tp05', 'tp06', 'tp07', 'tp08', 'tp09', 'tp10', 'urban', 'wf_01', 'wf_02', 'wf_03', 'wr_01', 'wr_02', 'wr_03', 'wr_04', 'wr_05', 'wr_06', 'wr_07', 'wr_08', 'wr_09', 'wr_10', 'wr_11', 'wr_12', 'wr_13'] \n",
            "\n",
            "get_dummies된 데이터 칼럼 :  ['index', 'QaA', 'QaE', 'QbA', 'QbE', 'QcA', 'QcE', 'QdA', 'QdE', 'QeA', 'QeE', 'QfA', 'QfE', 'QgA', 'QgE', 'QhA', 'QhE', 'QiA', 'QiE', 'QjA', 'QjE', 'QkA', 'QkE', 'QlA', 'QlE', 'QmA', 'QmE', 'QnA', 'QnE', 'QoA', 'QoE', 'QpA', 'QpE', 'QqA', 'QqE', 'QrA', 'QrE', 'QsA', 'QsE', 'QtA', 'QtE', 'education', 'engnat', 'familysize', 'hand', 'married', 'tp01', 'tp02', 'tp03', 'tp04', 'tp05', 'tp06', 'tp07', 'tp08', 'tp09', 'tp10', 'urban', 'wf_01', 'wf_02', 'wf_03', 'wr_01', 'wr_02', 'wr_03', 'wr_04', 'wr_05', 'wr_06', 'wr_07', 'wr_08', 'wr_09', 'wr_10', 'wr_11', 'wr_12', 'wr_13', 'age_group_+70s', 'age_group_10s', 'age_group_20s', 'age_group_30s', 'age_group_40s', 'age_group_50s', 'age_group_60s', 'gender_Female', 'gender_Male', 'race_Arab', 'race_Asian', 'race_Black', 'race_Indigenous Australian', 'race_Native American', 'race_Other', 'race_White', 'religion_Agnostic', 'religion_Atheist', 'religion_Buddhist', 'religion_Christian_Catholic', 'religion_Christian_Mormon', 'religion_Christian_Other', 'religion_Christian_Protestant', 'religion_Hindu', 'religion_Jewish', 'religion_Muslim', 'religion_Other', 'religion_Sikh']\n"
          ],
          "name": "stdout"
        }
      ]
    },
    {
      "cell_type": "code",
      "metadata": {
        "id": "m2Tw3OMbUuZw",
        "outputId": "f2f14c99-3f10-4731-df23-8a521fa29ca4",
        "colab": {
          "base_uri": "https://localhost:8080/"
        }
      },
      "source": [
        "print(\"X: {}\\tX_dummies: {}\".format(X.shape, X_dummies.shape))\n"
      ],
      "execution_count": null,
      "outputs": [
        {
          "output_type": "stream",
          "text": [
            "X: (45532, 77)\tX_dummies: (45532, 101)\n"
          ],
          "name": "stdout"
        }
      ]
    },
    {
      "cell_type": "code",
      "metadata": {
        "id": "f_GHFXpiU3Q1",
        "outputId": "4015e379-664c-4fd5-8559-bcb0b61334bb",
        "colab": {
          "base_uri": "https://localhost:8080/"
        }
      },
      "source": [
        "test = pd.get_dummies(test)\n",
        "test.shape\n",
        "\n",
        "X = X_dummies\n",
        "X.shape"
      ],
      "execution_count": null,
      "outputs": [
        {
          "output_type": "execute_result",
          "data": {
            "text/plain": [
              "(45532, 101)"
            ]
          },
          "metadata": {
            "tags": []
          },
          "execution_count": 10
        }
      ]
    },
    {
      "cell_type": "code",
      "metadata": {
        "id": "GGE-gNGDVla5",
        "outputId": "8cda675c-204f-4a3d-a45d-32ef7b302f35",
        "colab": {
          "base_uri": "https://localhost:8080/"
        }
      },
      "source": [
        "# 칼럼 개수 변화\n",
        "print(\"X : {}\\ntest : {}\".format(X.shape, test.shape))\n",
        "# 인코딩 확인\n",
        "print(\"Encoding Success\") if list(X.columns) == list(test.columns) else list(test.columns)"
      ],
      "execution_count": null,
      "outputs": [
        {
          "output_type": "stream",
          "text": [
            "X : (45532, 101)\n",
            "test : (11383, 101)\n",
            "Encoding Success\n"
          ],
          "name": "stdout"
        }
      ]
    },
    {
      "cell_type": "code",
      "metadata": {
        "id": "7c1IagjeZItV"
      },
      "source": [
        "## MEAN ENCODING 해봅시다"
      ],
      "execution_count": null,
      "outputs": []
    },
    {
      "cell_type": "code",
      "metadata": {
        "id": "6CNZthQjW7XT",
        "outputId": "73807c4e-82be-411e-c9d3-28ed227871c8",
        "colab": {
          "base_uri": "https://localhost:8080/"
        }
      },
      "source": [
        "# nan 값을 열의 평균으로 바꾸는 fillna 메소드와 중복 데이터를 처리하는 drop_duplicates를 사용하겠습니다.\n",
        "\n",
        "# nan 값 메꾸기\n",
        "X = X.fillna(X.mean())\n",
        "# 중복 값 제거\n",
        "X.drop_duplicates(keep='first', inplace = True)\n",
        "# 비교 -> nan 없음\n",
        "X.shape"
      ],
      "execution_count": null,
      "outputs": [
        {
          "output_type": "execute_result",
          "data": {
            "text/plain": [
              "(45532, 101)"
            ]
          },
          "metadata": {
            "tags": []
          },
          "execution_count": 13
        }
      ]
    },
    {
      "cell_type": "code",
      "metadata": {
        "id": "KPVDVReXXP-N"
      },
      "source": [
        "from sklearn.preprocessing import MinMaxScaler\n",
        "# 데이터 스케일링 -> 민맥스/스텐다드 모두 성능 비슷함\n",
        "scaler=MinMaxScaler()\n",
        "scaler.fit(X)\n",
        "X=scaler.transform(X)\n",
        "# 테스트 데이터도 동일 스케일러로\n",
        "test=scaler.transform(test)"
      ],
      "execution_count": null,
      "outputs": []
    },
    {
      "cell_type": "code",
      "metadata": {
        "id": "xzRu5godgQ4I",
        "outputId": "0f7e6ace-1a52-4a19-c081-581beea5ffa1",
        "colab": {
          "base_uri": "https://localhost:8080/"
        }
      },
      "source": [
        "X"
      ],
      "execution_count": null,
      "outputs": [
        {
          "output_type": "execute_result",
          "data": {
            "text/plain": [
              "array([[0.00000000e+00, 5.00000000e-01, 1.40020340e-04, ...,\n",
              "        0.00000000e+00, 1.00000000e+00, 0.00000000e+00],\n",
              "       [2.19630581e-05, 1.00000000e+00, 2.57670567e-04, ...,\n",
              "        0.00000000e+00, 0.00000000e+00, 0.00000000e+00],\n",
              "       [4.39261163e-05, 7.50000000e-01, 6.61989656e-04, ...,\n",
              "        0.00000000e+00, 1.00000000e+00, 0.00000000e+00],\n",
              "       ...,\n",
              "       [9.99956074e-01, 7.50000000e-01, 2.35300453e-04, ...,\n",
              "        0.00000000e+00, 0.00000000e+00, 0.00000000e+00],\n",
              "       [9.99978037e-01, 0.00000000e+00, 2.99096703e-04, ...,\n",
              "        0.00000000e+00, 0.00000000e+00, 0.00000000e+00],\n",
              "       [1.00000000e+00, 5.00000000e-01, 1.95117101e-04, ...,\n",
              "        0.00000000e+00, 0.00000000e+00, 0.00000000e+00]])"
            ]
          },
          "metadata": {
            "tags": []
          },
          "execution_count": 15
        }
      ]
    },
    {
      "cell_type": "code",
      "metadata": {
        "id": "Y5D8P-rTgZXe",
        "outputId": "edfcca7f-d513-4f83-9eec-e54b1e8fbf54",
        "colab": {
          "base_uri": "https://localhost:8080/"
        }
      },
      "source": [
        "##bayesian optimization\n",
        "!pip install bayesian-optimization"
      ],
      "execution_count": null,
      "outputs": [
        {
          "output_type": "stream",
          "text": [
            "Collecting bayesian-optimization\n",
            "  Downloading https://files.pythonhosted.org/packages/bb/7a/fd8059a3881d3ab37ac8f72f56b73937a14e8bb14a9733e68cc8b17dbe3c/bayesian-optimization-1.2.0.tar.gz\n",
            "Requirement already satisfied: numpy>=1.9.0 in /usr/local/lib/python3.6/dist-packages (from bayesian-optimization) (1.18.5)\n",
            "Requirement already satisfied: scipy>=0.14.0 in /usr/local/lib/python3.6/dist-packages (from bayesian-optimization) (1.4.1)\n",
            "Requirement already satisfied: scikit-learn>=0.18.0 in /usr/local/lib/python3.6/dist-packages (from bayesian-optimization) (0.22.2.post1)\n",
            "Requirement already satisfied: joblib>=0.11 in /usr/local/lib/python3.6/dist-packages (from scikit-learn>=0.18.0->bayesian-optimization) (0.17.0)\n",
            "Building wheels for collected packages: bayesian-optimization\n",
            "  Building wheel for bayesian-optimization (setup.py) ... \u001b[?25l\u001b[?25hdone\n",
            "  Created wheel for bayesian-optimization: filename=bayesian_optimization-1.2.0-cp36-none-any.whl size=11685 sha256=1abba5552e5ff19d26bd0389e9f41419d8a6c9f20c5846e6795e45a695c009b2\n",
            "  Stored in directory: /root/.cache/pip/wheels/5a/56/ae/e0e3c1fc1954dc3ec712e2df547235ed072b448094d8f94aec\n",
            "Successfully built bayesian-optimization\n",
            "Installing collected packages: bayesian-optimization\n",
            "Successfully installed bayesian-optimization-1.2.0\n"
          ],
          "name": "stdout"
        }
      ]
    },
    {
      "cell_type": "code",
      "metadata": {
        "id": "5sFqU_3mguPH"
      },
      "source": [
        "import lightgbm as lgbm\n",
        "from bayes_opt import BayesianOptimization\n",
        "from sklearn.metrics import roc_auc_score, make_scorer\n",
        "from sklearn.model_selection import cross_validate"
      ],
      "execution_count": null,
      "outputs": []
    },
    {
      "cell_type": "code",
      "metadata": {
        "id": "nWWqrz4Mg1jr"
      },
      "source": [
        "#목적함수 생성\n",
        "def lgbm_cv(learning_rate, num_leaves, max_depth, min_child_weight, colsample_bytree, feature_fraction, bagging_fraction, lambda_l1, lambda_l2):\n",
        "    model = lgbm.LGBMClassifier(learning_rate=learning_rate,\n",
        "                                n_estimators = 300,\n",
        "                                #boosting = 'dart',\n",
        "                                num_leaves = int(round(num_leaves)),\n",
        "                                max_depth = int(round(max_depth)),\n",
        "                                min_child_weight = int(round(min_child_weight)),\n",
        "                                colsample_bytree = colsample_bytree,\n",
        "                                feature_fraction = max(min(feature_fraction, 1), 0),\n",
        "                                bagging_fraction = max(min(bagging_fraction, 1), 0),\n",
        "                                lambda_l1 = max(lambda_l1, 0),\n",
        "                                lambda_l2 = max(lambda_l2, 0)\n",
        "                               )\n",
        "    scoring = {'roc_auc_score': make_scorer(roc_auc_score)}\n",
        "    result = cross_validate(model, X, y, cv=5, scoring=scoring)\n",
        "    auc_score = result[\"test_roc_auc_score\"].mean()\n",
        "    return auc_score"
      ],
      "execution_count": null,
      "outputs": []
    },
    {
      "cell_type": "code",
      "metadata": {
        "id": "YWq56vRbg18N"
      },
      "source": [
        "# 입력값의 탐색 대상 구간\n",
        "pbounds = {'learning_rate' : (0.0001, 0.05),\n",
        "           'num_leaves': (300, 600),\n",
        "           'max_depth': (2, 25),\n",
        "           'min_child_weight': (30, 100),\n",
        "           'colsample_bytree': (0, 0.99),\n",
        "           'feature_fraction': (0.0001, 0.99),\n",
        "           'bagging_fraction': (0.0001, 0.99),\n",
        "           'lambda_l1' : (0, 0.99),\n",
        "           'lambda_l2' : (0, 0.99),\n",
        "          }"
      ],
      "execution_count": null,
      "outputs": []
    },
    {
      "cell_type": "code",
      "metadata": {
        "id": "21-MSNsmQlmS"
      },
      "source": [
        "#객체 생성\n",
        "lgbmBO = BayesianOptimization(f = lgbm_cv, pbounds = pbounds, verbose = 2, random_state = 0 )"
      ],
      "execution_count": null,
      "outputs": []
    },
    {
      "cell_type": "code",
      "metadata": {
        "id": "nbEaB_ZYQoR8",
        "outputId": "d3ceccf5-a08d-4919-e224-ffa05e076e41",
        "colab": {
          "base_uri": "https://localhost:8080/"
        }
      },
      "source": [
        "# 반복적으로 베이지안 최적화 수행\n",
        "# acq='ei'사용\n",
        "# xi=0.01 로 exploration의 강도를 조금 높임\n",
        "lgbmBO.maximize(init_points=5, n_iter = 20, acq='ei', xi=0.01)"
      ],
      "execution_count": null,
      "outputs": [
        {
          "output_type": "stream",
          "text": [
            "|   iter    |  target   | baggin... | colsam... | featur... | lambda_l1 | lambda_l2 | learni... | max_depth | min_ch... | num_le... |\n",
            "-------------------------------------------------------------------------------------------------------------------------------------\n",
            "| \u001b[0m 1       \u001b[0m | \u001b[0m 0.685   \u001b[0m | \u001b[0m 0.5434  \u001b[0m | \u001b[0m 0.708   \u001b[0m | \u001b[0m 0.5968  \u001b[0m | \u001b[0m 0.5394  \u001b[0m | \u001b[0m 0.4194  \u001b[0m | \u001b[0m 0.03233 \u001b[0m | \u001b[0m 12.06   \u001b[0m | \u001b[0m 92.42   \u001b[0m | \u001b[0m 589.1   \u001b[0m |\n",
            "| \u001b[0m 2       \u001b[0m | \u001b[0m 0.6792  \u001b[0m | \u001b[0m 0.3797  \u001b[0m | \u001b[0m 0.7838  \u001b[0m | \u001b[0m 0.5237  \u001b[0m | \u001b[0m 0.5624  \u001b[0m | \u001b[0m 0.9163  \u001b[0m | \u001b[0m 0.003645\u001b[0m | \u001b[0m 4.004   \u001b[0m | \u001b[0m 31.42   \u001b[0m | \u001b[0m 549.8   \u001b[0m |\n",
            "| \u001b[0m 3       \u001b[0m | \u001b[0m 0.6787  \u001b[0m | \u001b[0m 0.7704  \u001b[0m | \u001b[0m 0.8613  \u001b[0m | \u001b[0m 0.9688  \u001b[0m | \u001b[0m 0.7912  \u001b[0m | \u001b[0m 0.4569  \u001b[0m | \u001b[0m 0.03905 \u001b[0m | \u001b[0m 4.72    \u001b[0m | \u001b[0m 74.79   \u001b[0m | \u001b[0m 343.0   \u001b[0m |\n",
            "| \u001b[0m 4       \u001b[0m | \u001b[0m 0.6594  \u001b[0m | \u001b[0m 0.9352  \u001b[0m | \u001b[0m 0.5166  \u001b[0m | \u001b[0m 0.4106  \u001b[0m | \u001b[0m 0.2619  \u001b[0m | \u001b[0m 0.7665  \u001b[0m | \u001b[0m 0.02286 \u001b[0m | \u001b[0m 15.07   \u001b[0m | \u001b[0m 31.32   \u001b[0m | \u001b[0m 485.3   \u001b[0m |\n",
            "| \u001b[0m 5       \u001b[0m | \u001b[0m 0.6573  \u001b[0m | \u001b[0m 0.606   \u001b[0m | \u001b[0m 0.6108  \u001b[0m | \u001b[0m 0.9343  \u001b[0m | \u001b[0m 0.675   \u001b[0m | \u001b[0m 0.3559  \u001b[0m | \u001b[0m 0.02191 \u001b[0m | \u001b[0m 18.05   \u001b[0m | \u001b[0m 34.22   \u001b[0m | \u001b[0m 500.0   \u001b[0m |\n",
            "| \u001b[95m 6       \u001b[0m | \u001b[95m 0.6878  \u001b[0m | \u001b[95m 0.9396  \u001b[0m | \u001b[95m 0.3415  \u001b[0m | \u001b[95m 0.7418  \u001b[0m | \u001b[95m 0.9291  \u001b[0m | \u001b[95m 0.2334  \u001b[0m | \u001b[95m 0.03772 \u001b[0m | \u001b[95m 2.019   \u001b[0m | \u001b[95m 97.5    \u001b[0m | \u001b[95m 597.4   \u001b[0m |\n",
            "| \u001b[0m 7       \u001b[0m | \u001b[0m 0.6648  \u001b[0m | \u001b[0m 0.4016  \u001b[0m | \u001b[0m 0.285   \u001b[0m | \u001b[0m 0.2292  \u001b[0m | \u001b[0m 0.5916  \u001b[0m | \u001b[0m 0.6864  \u001b[0m | \u001b[0m 0.02408 \u001b[0m | \u001b[0m 2.676   \u001b[0m | \u001b[0m 30.62   \u001b[0m | \u001b[0m 301.9   \u001b[0m |\n",
            "| \u001b[95m 8       \u001b[0m | \u001b[95m 0.6921  \u001b[0m | \u001b[95m 0.473   \u001b[0m | \u001b[95m 0.6159  \u001b[0m | \u001b[95m 0.8182  \u001b[0m | \u001b[95m 0.7594  \u001b[0m | \u001b[95m 0.69    \u001b[0m | \u001b[95m 0.01599 \u001b[0m | \u001b[95m 3.185   \u001b[0m | \u001b[95m 98.04   \u001b[0m | \u001b[95m 301.8   \u001b[0m |\n",
            "| \u001b[0m 9       \u001b[0m | \u001b[0m 0.659   \u001b[0m | \u001b[0m 0.3567  \u001b[0m | \u001b[0m 0.8714  \u001b[0m | \u001b[0m 0.3458  \u001b[0m | \u001b[0m 0.01315 \u001b[0m | \u001b[0m 0.5316  \u001b[0m | \u001b[0m 0.03552 \u001b[0m | \u001b[0m 8.042   \u001b[0m | \u001b[0m 30.71   \u001b[0m | \u001b[0m 599.4   \u001b[0m |\n",
            "| \u001b[0m 10      \u001b[0m | \u001b[0m 0.6866  \u001b[0m | \u001b[0m 0.02805 \u001b[0m | \u001b[0m 0.486   \u001b[0m | \u001b[0m 0.2886  \u001b[0m | \u001b[0m 0.3421  \u001b[0m | \u001b[0m 0.5953  \u001b[0m | \u001b[0m 0.008227\u001b[0m | \u001b[0m 2.824   \u001b[0m | \u001b[0m 99.71   \u001b[0m | \u001b[0m 492.2   \u001b[0m |\n",
            "| \u001b[95m 11      \u001b[0m | \u001b[95m 0.6939  \u001b[0m | \u001b[95m 0.03459 \u001b[0m | \u001b[95m 0.01621 \u001b[0m | \u001b[95m 0.4237  \u001b[0m | \u001b[95m 0.9467  \u001b[0m | \u001b[95m 0.1738  \u001b[0m | \u001b[95m 0.0101  \u001b[0m | \u001b[95m 3.981   \u001b[0m | \u001b[95m 94.6    \u001b[0m | \u001b[95m 300.2   \u001b[0m |\n",
            "| \u001b[0m 12      \u001b[0m | \u001b[0m 0.6842  \u001b[0m | \u001b[0m 0.07314 \u001b[0m | \u001b[0m 0.2881  \u001b[0m | \u001b[0m 0.5315  \u001b[0m | \u001b[0m 0.2116  \u001b[0m | \u001b[0m 0.537   \u001b[0m | \u001b[0m 0.03467 \u001b[0m | \u001b[0m 24.96   \u001b[0m | \u001b[0m 94.68   \u001b[0m | \u001b[0m 303.2   \u001b[0m |\n",
            "| \u001b[0m 13      \u001b[0m | \u001b[0m 0.6858  \u001b[0m | \u001b[0m 0.1637  \u001b[0m | \u001b[0m 0.09171 \u001b[0m | \u001b[0m 0.2912  \u001b[0m | \u001b[0m 0.1955  \u001b[0m | \u001b[0m 0.2678  \u001b[0m | \u001b[0m 0.04964 \u001b[0m | \u001b[0m 2.115   \u001b[0m | \u001b[0m 98.83   \u001b[0m | \u001b[0m 563.2   \u001b[0m |\n",
            "| \u001b[0m 14      \u001b[0m | \u001b[0m 0.6843  \u001b[0m | \u001b[0m 0.111   \u001b[0m | \u001b[0m 0.2821  \u001b[0m | \u001b[0m 0.06119 \u001b[0m | \u001b[0m 0.2628  \u001b[0m | \u001b[0m 0.06537 \u001b[0m | \u001b[0m 0.03209 \u001b[0m | \u001b[0m 4.387   \u001b[0m | \u001b[0m 98.09   \u001b[0m | \u001b[0m 414.7   \u001b[0m |\n",
            "| \u001b[0m 15      \u001b[0m | \u001b[0m 0.68    \u001b[0m | \u001b[0m 0.4375  \u001b[0m | \u001b[0m 0.02025 \u001b[0m | \u001b[0m 0.2409  \u001b[0m | \u001b[0m 0.2127  \u001b[0m | \u001b[0m 0.9897  \u001b[0m | \u001b[0m 0.04191 \u001b[0m | \u001b[0m 2.004   \u001b[0m | \u001b[0m 69.23   \u001b[0m | \u001b[0m 539.1   \u001b[0m |\n",
            "| \u001b[0m 16      \u001b[0m | \u001b[0m 0.6911  \u001b[0m | \u001b[0m 0.4665  \u001b[0m | \u001b[0m 0.06868 \u001b[0m | \u001b[0m 0.625   \u001b[0m | \u001b[0m 0.6591  \u001b[0m | \u001b[0m 0.4049  \u001b[0m | \u001b[0m 0.02117 \u001b[0m | \u001b[0m 5.431   \u001b[0m | \u001b[0m 93.37   \u001b[0m | \u001b[0m 303.1   \u001b[0m |\n",
            "| \u001b[0m 17      \u001b[0m | \u001b[0m 0.6228  \u001b[0m | \u001b[0m 0.3612  \u001b[0m | \u001b[0m 0.05869 \u001b[0m | \u001b[0m 0.01115 \u001b[0m | \u001b[0m 0.08952 \u001b[0m | \u001b[0m 0.5354  \u001b[0m | \u001b[0m 0.03598 \u001b[0m | \u001b[0m 2.068   \u001b[0m | \u001b[0m 97.41   \u001b[0m | \u001b[0m 343.9   \u001b[0m |\n",
            "| \u001b[0m 18      \u001b[0m | \u001b[0m 0.6724  \u001b[0m | \u001b[0m 0.9798  \u001b[0m | \u001b[0m 0.5827  \u001b[0m | \u001b[0m 0.7027  \u001b[0m | \u001b[0m 0.4262  \u001b[0m | \u001b[0m 0.1943  \u001b[0m | \u001b[0m 0.04879 \u001b[0m | \u001b[0m 3.261   \u001b[0m | \u001b[0m 54.94   \u001b[0m | \u001b[0m 416.9   \u001b[0m |\n",
            "| \u001b[0m 19      \u001b[0m | \u001b[0m 0.6837  \u001b[0m | \u001b[0m 0.1653  \u001b[0m | \u001b[0m 0.1947  \u001b[0m | \u001b[0m 0.8588  \u001b[0m | \u001b[0m 0.5766  \u001b[0m | \u001b[0m 0.5244  \u001b[0m | \u001b[0m 0.0298  \u001b[0m | \u001b[0m 24.72   \u001b[0m | \u001b[0m 99.7    \u001b[0m | \u001b[0m 437.2   \u001b[0m |\n",
            "| \u001b[0m 20      \u001b[0m | \u001b[0m 0.6789  \u001b[0m | \u001b[0m 0.7338  \u001b[0m | \u001b[0m 0.8349  \u001b[0m | \u001b[0m 0.9033  \u001b[0m | \u001b[0m 0.2712  \u001b[0m | \u001b[0m 0.6914  \u001b[0m | \u001b[0m 0.01972 \u001b[0m | \u001b[0m 11.5    \u001b[0m | \u001b[0m 76.94   \u001b[0m | \u001b[0m 300.1   \u001b[0m |\n",
            "| \u001b[0m 21      \u001b[0m | \u001b[0m 0.6579  \u001b[0m | \u001b[0m 0.1072  \u001b[0m | \u001b[0m 0.4147  \u001b[0m | \u001b[0m 0.2818  \u001b[0m | \u001b[0m 0.5216  \u001b[0m | \u001b[0m 0.7375  \u001b[0m | \u001b[0m 0.04687 \u001b[0m | \u001b[0m 2.003   \u001b[0m | \u001b[0m 31.23   \u001b[0m | \u001b[0m 343.9   \u001b[0m |\n",
            "| \u001b[0m 22      \u001b[0m | \u001b[0m 0.6884  \u001b[0m | \u001b[0m 0.4691  \u001b[0m | \u001b[0m 0.1546  \u001b[0m | \u001b[0m 0.9695  \u001b[0m | \u001b[0m 0.2649  \u001b[0m | \u001b[0m 0.4599  \u001b[0m | \u001b[0m 0.02633 \u001b[0m | \u001b[0m 2.231   \u001b[0m | \u001b[0m 81.36   \u001b[0m | \u001b[0m 447.9   \u001b[0m |\n",
            "| \u001b[0m 23      \u001b[0m | \u001b[0m 0.6927  \u001b[0m | \u001b[0m 0.577   \u001b[0m | \u001b[0m 0.1179  \u001b[0m | \u001b[0m 0.4894  \u001b[0m | \u001b[0m 0.8669  \u001b[0m | \u001b[0m 0.2425  \u001b[0m | \u001b[0m 0.005848\u001b[0m | \u001b[0m 24.62   \u001b[0m | \u001b[0m 58.74   \u001b[0m | \u001b[0m 363.1   \u001b[0m |\n",
            "| \u001b[95m 24      \u001b[0m | \u001b[95m 0.6955  \u001b[0m | \u001b[95m 0.6513  \u001b[0m | \u001b[95m 0.04949 \u001b[0m | \u001b[95m 0.7092  \u001b[0m | \u001b[95m 0.7929  \u001b[0m | \u001b[95m 0.7078  \u001b[0m | \u001b[95m 0.004034\u001b[0m | \u001b[95m 24.4    \u001b[0m | \u001b[95m 82.87   \u001b[0m | \u001b[95m 401.7   \u001b[0m |\n",
            "| \u001b[0m 25      \u001b[0m | \u001b[0m 0.6881  \u001b[0m | \u001b[0m 0.7153  \u001b[0m | \u001b[0m 0.7376  \u001b[0m | \u001b[0m 0.1227  \u001b[0m | \u001b[0m 0.0148  \u001b[0m | \u001b[0m 0.7297  \u001b[0m | \u001b[0m 0.04347 \u001b[0m | \u001b[0m 23.74   \u001b[0m | \u001b[0m 99.65   \u001b[0m | \u001b[0m 598.6   \u001b[0m |\n",
            "=====================================================================================================================================\n"
          ],
          "name": "stdout"
        }
      ]
    },
    {
      "cell_type": "code",
      "metadata": {
        "id": "MDyLZN6PQs9d",
        "outputId": "fe7d4079-2a97-4b25-e11d-cbcd56c490df",
        "colab": {
          "base_uri": "https://localhost:8080/"
        }
      },
      "source": [
        "# 찾은 파라미터 값 확인\n",
        "lgbmBO.max"
      ],
      "execution_count": null,
      "outputs": [
        {
          "output_type": "execute_result",
          "data": {
            "text/plain": [
              "{'params': {'bagging_fraction': 0.6513288451812128,\n",
              "  'colsample_bytree': 0.04948931655836788,\n",
              "  'feature_fraction': 0.7092300403873002,\n",
              "  'lambda_l1': 0.792908337929724,\n",
              "  'lambda_l2': 0.7078492341983375,\n",
              "  'learning_rate': 0.004034430518652969,\n",
              "  'max_depth': 24.396407984925307,\n",
              "  'min_child_weight': 82.87377299005357,\n",
              "  'num_leaves': 401.66961553189},\n",
              " 'target': 0.695510210956894}"
            ]
          },
          "metadata": {
            "tags": []
          },
          "execution_count": 22
        }
      ]
    },
    {
      "cell_type": "code",
      "metadata": {
        "id": "Hxo08ySLSv0J"
      },
      "source": [
        "#파라미터 적용\n",
        "fit_lgbm = lgbm.LGBMClassifier(learning_rate=lgbmBO.max['params']['learning_rate'],\n",
        "                               num_leaves = int(round(lgbmBO.max['params']['num_leaves'])),\n",
        "                               max_depth = int(round(lgbmBO.max['params']['max_depth'])),\n",
        "                               min_child_weight = int(round(lgbmBO.max['params']['min_child_weight'])),\n",
        "                               colsample_bytree=lgbmBO.max['params']['colsample_bytree'],\n",
        "                               feature_fraction = max(min(lgbmBO.max['params']['feature_fraction'], 1), 0),\n",
        "                               bagging_fraction = max(min(lgbmBO.max['params']['bagging_fraction'], 1), 0),\n",
        "                               lambda_l1 = lgbmBO.max['params']['lambda_l1'],\n",
        "                               lambda_l2 = lgbmBO.max['params']['lambda_l2']\n",
        "                               )"
      ],
      "execution_count": null,
      "outputs": []
    },
    {
      "cell_type": "code",
      "metadata": {
        "id": "ng3QRgDQSzeY"
      },
      "source": [
        "model = fit_lgbm.fit(X,y)"
      ],
      "execution_count": null,
      "outputs": []
    },
    {
      "cell_type": "code",
      "metadata": {
        "id": "9_5-zM1rS1iC",
        "outputId": "18577409-d4c8-4b24-830c-34103efd0cbe",
        "colab": {
          "base_uri": "https://localhost:8080/"
        }
      },
      "source": [
        "import joblib\n",
        "joblib.dump(model, 'lgbmBO_201006.pkl')"
      ],
      "execution_count": null,
      "outputs": [
        {
          "output_type": "execute_result",
          "data": {
            "text/plain": [
              "['lgbmBO_201006.pkl']"
            ]
          },
          "metadata": {
            "tags": []
          },
          "execution_count": 25
        }
      ]
    },
    {
      "cell_type": "code",
      "metadata": {
        "id": "l5DYHO36S5I-"
      },
      "source": [
        "pred_y = model.predict(test)"
      ],
      "execution_count": null,
      "outputs": []
    },
    {
      "cell_type": "code",
      "metadata": {
        "id": "s7LI85NnS7aP"
      },
      "source": [
        "submission['voted']=pred_y\n",
        "submission.to_csv('lgbmBO.csv',index=False)"
      ],
      "execution_count": 29,
      "outputs": []
    },
    {
      "cell_type": "code",
      "metadata": {
        "id": "N8gCQsIyS89M"
      },
      "source": [
        ""
      ],
      "execution_count": null,
      "outputs": []
    }
  ]
}